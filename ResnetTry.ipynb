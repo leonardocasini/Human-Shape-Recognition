{
 "cells": [
  {
   "cell_type": "code",
   "execution_count": 7,
   "metadata": {
    "scrolled": false
   },
   "outputs": [
    {
     "name": "stdout",
     "output_type": "stream",
     "text": [
      "tf.Tensor([[0.16366288 0.05877373 0.         ... 0.17657517 0.01568415 0.05696955]], shape=(1, 2048), dtype=float32)\n"
     ]
    }
   ],
   "source": [
    "import tensorflow as tf\n",
    "from tensorflow.keras import layers,Model\n",
    "from tensorflow.keras.layers import Dense, GlobalAveragePooling2D\n",
    "from tensorflow.keras.applications.resnet_v2 import ResNet50V2\n",
    "from scipy.io import loadmat\n",
    "import cv2\n",
    "import numpy as np\n",
    "\n",
    "from config import Config\n",
    "\n",
    "config = Config()\n",
    "\n",
    "\n",
    "framess = np.load(\"/data/lcasini/Dataset/run2/132_46/frames_132_46.npy\")\n",
    "\n",
    "#primo frame\n",
    "image = framess[0]\n",
    "#immagine convertita in float\n",
    "image = tf.image.convert_image_dtype(image, dtype=tf.float32)\n",
    "image_size = tf.cast(tf.shape(image)[:2], tf.float32)\n",
    "\n",
    "#resize dell'immagine\n",
    "encoder_img_size = config.ENCODER_INPUT_SHAPE[:2]\n",
    "image_resize = tf.image.resize(image, encoder_img_size, method=tf.image.ResizeMethod.NEAREST_NEIGHBOR)\n",
    "\n",
    "# Normalize image to [-1, 1]\n",
    "image_final = tf.subtract(image_resize, 0.5)\n",
    "image_final = tf.multiply(image_final, 2.0)\n",
    "\n",
    "enc_shape = config.ENCODER_INPUT_SHAPE\n",
    "\n",
    "#inizializzata la resnet\n",
    "resnet50V2 = ResNet50V2(include_top=False, weights='imagenet', input_shape=enc_shape, pooling='avg')\n",
    "vs_initializer = tf.keras.initializers.VarianceScaling(2.0)\n",
    "\n",
    "l2_regularizer = tf.keras.regularizers.l2(0.0010000000474974513)#non so se il valore è corretto\n",
    "\n",
    "for layer in resnet50V2.layers:\n",
    "            if isinstance(layer, layers.Conv2D):\n",
    "                # original implementations slim `resnet_arg_scope` additionally sets\n",
    "                # `normalizer_fn` and `normalizer_params` which in TF 2.0 need to be implemented\n",
    "                # as own layers. This is not possible using keras ResNet50V2 application.\n",
    "                # Nevertheless this is not needed as training seems to be likely stable.\n",
    "                # See https://www.tensorflow.org/guide/migrate#a_note_on_slim_contriblayers for more\n",
    "                # migration insights\n",
    "                setattr(layer, 'padding', 'same')\n",
    "                setattr(layer, 'kernel_initializer', vs_initializer)\n",
    "                setattr(layer, 'kernel_regularizer', l2_regularizer)\n",
    "            if isinstance(layer, layers.BatchNormalization):\n",
    "                setattr(layer, 'momentum', 0.997)\n",
    "                setattr(layer, 'epsilon', 1e-5)\n",
    "            if isinstance(layer, layers.MaxPooling2D):\n",
    "                setattr(layer, 'padding', 'same')\n",
    "\n",
    "if len(tf.shape(image_final)) != 4:\n",
    "            image_final = tf.expand_dims(image_final, 0)\n",
    "features = resnet50V2(inputs=image_final, training=False)\n",
    "print(features)\n",
    "\n"
   ]
  },
  {
   "cell_type": "code",
   "execution_count": null,
   "metadata": {},
   "outputs": [],
   "source": []
  },
  {
   "cell_type": "code",
   "execution_count": null,
   "metadata": {},
   "outputs": [],
   "source": []
  }
 ],
 "metadata": {
  "kernelspec": {
   "display_name": "Python 3",
   "language": "python",
   "name": "python3"
  },
  "language_info": {
   "codemirror_mode": {
    "name": "ipython",
    "version": 3
   },
   "file_extension": ".py",
   "mimetype": "text/x-python",
   "name": "python",
   "nbconvert_exporter": "python",
   "pygments_lexer": "ipython3",
   "version": "3.8.5"
  }
 },
 "nbformat": 4,
 "nbformat_minor": 4
}

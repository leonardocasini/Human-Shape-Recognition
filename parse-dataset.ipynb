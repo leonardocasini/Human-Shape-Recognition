{
 "cells": [
  {
   "cell_type": "code",
   "execution_count": 1,
   "id": "quarterly-bulletin",
   "metadata": {},
   "outputs": [],
   "source": [
    "import tensorflow as tf\n",
    "from config import Config\n",
    "\n",
    "config = Config()\n",
    "\n",
    "def parse(record):\n",
    "    feature_set = { 'theta':tf.io.VarLenFeature(dtype=tf.float32),\n",
    "               'image':tf.io.FixedLenFeature([], tf.string,default_value='')\n",
    "           }\n",
    "\n",
    "    #tf.io.FixedLenFeature([10], tf.float32, default_value=[0.0, 0.0, 0.0, 0.0, 0.0, 0.0, 0.0, 0.0, 0.0, 0.0])\n",
    "    features = tf.io.parse_single_example(record, features=feature_set)\n",
    "    image_data = features['image']\n",
    "    image = decodeImg(image_data)\n",
    "    theta = features['theta']\n",
    "    return image,theta\n",
    "\n",
    "def decodeImg(image_data):\n",
    "    image = tf.image.decode_jpeg(image_data, channels=3)\n",
    "    # convert to [0, 1].\n",
    "    image = tf.image.convert_image_dtype(image, dtype=tf.float32)\n",
    "    #resize dell'immagine\n",
    "    encoder_img_size = config.ENCODER_INPUT_SHAPE[:2]\n",
    "    image_resize = tf.image.resize(image, encoder_img_size, method=tf.image.ResizeMethod.NEAREST_NEIGHBOR)\n",
    "    # Normalize image to [-1, 1]\n",
    "    image_final = tf.subtract(image_resize, 0.5)\n",
    "    image = tf.multiply(image_final, 2.0)\n",
    "    return image\n",
    "    \n",
    "class ExceptionHandlingIterator:\n",
    "    \"\"\"This class was introduced to avoid tensorflow.python.framework.errors_impl.InvalidArgumentError\n",
    "        thrown while iterating over the zipped datasets.\n",
    "\n",
    "        One assumption is that the tf records contain one wrongly generated set due to following error message:\n",
    "            Expected begin[1] in [0, 462], but got -11 [[{{node Slice}}]] [Op:IteratorGetNextSync]\n",
    "    \"\"\"\n",
    "\n",
    "    def __init__(self, iterable):\n",
    "        self._iter = iter(iterable)\n",
    "\n",
    "    def __iter__(self):\n",
    "        return self\n",
    "\n",
    "    def __next__(self):\n",
    "        try:\n",
    "            return self._iter.__next__()\n",
    "        except StopIteration as e:\n",
    "            raise e\n",
    "        except Exception as e:\n",
    "            print(e)\n",
    "            return self.__next__()\n",
    "\n",
    "    "
   ]
  },
  {
   "cell_type": "code",
   "execution_count": 2,
   "id": "south-present",
   "metadata": {},
   "outputs": [
    {
     "name": "stdout",
     "output_type": "stream",
     "text": [
      "1884\n",
      "<PrefetchDataset shapes: ((64, 224, 224, 3), (64, None)), types: (tf.float32, tf.float32)>\n"
     ]
    }
   ],
   "source": [
    "#records = tf.data.TFRecordDataset(\"Run2.tfrecords\")\n",
    "import tensorflow as tf\n",
    "import tqdm\n",
    "tf_records = \"Run2.tfrecords\"\n",
    "dataset = tf.data.TFRecordDataset(tf_records)\n",
    "samples = 120577\n",
    "total = int(samples/ 64)\n",
    "print(total)\n",
    "dataset = dataset.map(parse)\n",
    "dataset = dataset.shuffle(10000, seed=config.SEED, reshuffle_each_iteration=True)\n",
    "dataset = dataset.batch(batch_size=64, drop_remainder=True)\n",
    "dataset = dataset.prefetch(tf.data.experimental.AUTOTUNE)\n",
    "print(dataset)\n",
    "\n",
    "\n",
    "#for data in tqdm(dataset, total=total, position=0, desc='training'):\n",
    "    #print(data[0])\n"
   ]
  },
  {
   "cell_type": "code",
   "execution_count": null,
   "id": "first-sally",
   "metadata": {},
   "outputs": [],
   "source": []
  }
 ],
 "metadata": {
  "kernelspec": {
   "display_name": "Python 3",
   "language": "python",
   "name": "python3"
  },
  "language_info": {
   "codemirror_mode": {
    "name": "ipython",
    "version": 3
   },
   "file_extension": ".py",
   "mimetype": "text/x-python",
   "name": "python",
   "nbconvert_exporter": "python",
   "pygments_lexer": "ipython3",
   "version": "3.8.5"
  }
 },
 "nbformat": 4,
 "nbformat_minor": 5
}
